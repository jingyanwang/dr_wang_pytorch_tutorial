{
 "cells": [
  {
   "cell_type": "code",
   "execution_count": 1,
   "id": "df427427",
   "metadata": {},
   "outputs": [],
   "source": [
    "import torch"
   ]
  },
  {
   "cell_type": "code",
   "execution_count": 2,
   "id": "555d4686",
   "metadata": {},
   "outputs": [],
   "source": [
    "x = torch.ones(5)"
   ]
  },
  {
   "cell_type": "code",
   "execution_count": 3,
   "id": "e75c5b7c",
   "metadata": {},
   "outputs": [],
   "source": [
    "y = torch.zeros(3)"
   ]
  },
  {
   "cell_type": "code",
   "execution_count": 5,
   "id": "3982cfeb",
   "metadata": {},
   "outputs": [],
   "source": [
    "w = torch.randn(5, 3, requires_grad = True)"
   ]
  },
  {
   "cell_type": "code",
   "execution_count": 6,
   "id": "c869adbf",
   "metadata": {},
   "outputs": [],
   "source": [
    "b = torch.randn(3, requires_grad = True)"
   ]
  },
  {
   "cell_type": "code",
   "execution_count": 7,
   "id": "945f7ab7",
   "metadata": {},
   "outputs": [],
   "source": [
    "z = torch.matmul(x, w) + b"
   ]
  },
  {
   "cell_type": "code",
   "execution_count": 8,
   "id": "e33b7260",
   "metadata": {},
   "outputs": [
    {
     "data": {
      "text/plain": [
       "tensor([ 4.9520,  2.4354, -1.1352], grad_fn=<AddBackward0>)"
      ]
     },
     "execution_count": 8,
     "metadata": {},
     "output_type": "execute_result"
    }
   ],
   "source": [
    "z"
   ]
  },
  {
   "cell_type": "code",
   "execution_count": 9,
   "id": "559f7c5b",
   "metadata": {},
   "outputs": [],
   "source": [
    "loss = torch.nn.functional.binary_cross_entropy_with_logits(\n",
    "    z,\n",
    "    y)"
   ]
  },
  {
   "cell_type": "code",
   "execution_count": 10,
   "id": "fb8a67f8",
   "metadata": {},
   "outputs": [
    {
     "name": "stdout",
     "output_type": "stream",
     "text": [
      "Gradient function for z = <AddBackward0 object at 0x000001C03CB2C3A0>\n"
     ]
    }
   ],
   "source": [
    "print(f\"Gradient function for z = {z.grad_fn}\")"
   ]
  },
  {
   "cell_type": "code",
   "execution_count": 11,
   "id": "41756f4e",
   "metadata": {},
   "outputs": [
    {
     "name": "stdout",
     "output_type": "stream",
     "text": [
      "Gradient function for loss = <BinaryCrossEntropyWithLogitsBackward0 object at 0x000001C03CB2C3A0>\n"
     ]
    }
   ],
   "source": [
    "print(f\"Gradient function for loss = {loss.grad_fn}\")"
   ]
  },
  {
   "cell_type": "code",
   "execution_count": 12,
   "id": "b078697a",
   "metadata": {},
   "outputs": [],
   "source": [
    "loss.backward()"
   ]
  },
  {
   "cell_type": "code",
   "execution_count": 13,
   "id": "1fdcd65c",
   "metadata": {},
   "outputs": [
    {
     "name": "stdout",
     "output_type": "stream",
     "text": [
      "tensor([[0.3310, 0.3065, 0.0811],\n",
      "        [0.3310, 0.3065, 0.0811],\n",
      "        [0.3310, 0.3065, 0.0811],\n",
      "        [0.3310, 0.3065, 0.0811],\n",
      "        [0.3310, 0.3065, 0.0811]])\n"
     ]
    }
   ],
   "source": [
    "print(w.grad)"
   ]
  },
  {
   "cell_type": "code",
   "execution_count": 14,
   "id": "59f40ce8",
   "metadata": {},
   "outputs": [
    {
     "name": "stdout",
     "output_type": "stream",
     "text": [
      "tensor([0.3310, 0.3065, 0.0811])\n"
     ]
    }
   ],
   "source": [
    "print(b.grad)"
   ]
  },
  {
   "cell_type": "code",
   "execution_count": null,
   "id": "c4c99a82",
   "metadata": {},
   "outputs": [],
   "source": []
  },
  {
   "cell_type": "code",
   "execution_count": null,
   "id": "1ef78d33",
   "metadata": {},
   "outputs": [],
   "source": []
  },
  {
   "cell_type": "markdown",
   "id": "6ff8f589",
   "metadata": {},
   "source": [
    "##### END"
   ]
  }
 ],
 "metadata": {
  "kernelspec": {
   "display_name": "Python 3 (ipykernel)",
   "language": "python",
   "name": "python3"
  },
  "language_info": {
   "codemirror_mode": {
    "name": "ipython",
    "version": 3
   },
   "file_extension": ".py",
   "mimetype": "text/x-python",
   "name": "python",
   "nbconvert_exporter": "python",
   "pygments_lexer": "ipython3",
   "version": "3.9.6"
  }
 },
 "nbformat": 4,
 "nbformat_minor": 5
}
