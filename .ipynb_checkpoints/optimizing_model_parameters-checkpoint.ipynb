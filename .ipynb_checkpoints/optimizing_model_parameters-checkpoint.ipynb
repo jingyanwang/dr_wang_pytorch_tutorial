{
 "cells": [
  {
   "cell_type": "code",
   "execution_count": 1,
   "id": "dc9961a1",
   "metadata": {},
   "outputs": [],
   "source": [
    "import torch\n",
    "from torch import nn\n",
    "from torch.utils.data import DataLoader\n",
    "from torchvision import datasets\n",
    "from torchvision.transforms import ToTensor, Lambda\n",
    "\n",
    "training_data = datasets.FashionMNIST(\n",
    "    root=\"data\",\n",
    "    train=True,\n",
    "    download=True,\n",
    "    transform=ToTensor()\n",
    ")\n",
    "\n",
    "test_data = datasets.FashionMNIST(\n",
    "    root=\"data\",\n",
    "    train=False,\n",
    "    download=True,\n",
    "    transform=ToTensor()\n",
    ")\n",
    "\n",
    "train_dataloader = DataLoader(training_data, batch_size=64)\n",
    "test_dataloader = DataLoader(test_data, batch_size=64)\n",
    "\n",
    "class NeuralNetwork(nn.Module):\n",
    "    def __init__(self):\n",
    "        super(NeuralNetwork, self).__init__()\n",
    "        self.flatten = nn.Flatten()\n",
    "        self.linear_relu_stack = nn.Sequential(\n",
    "            nn.Linear(28*28, 512),\n",
    "            nn.ReLU(),\n",
    "            nn.Linear(512, 512),\n",
    "            nn.ReLU(),\n",
    "            nn.Linear(512, 10),\n",
    "        )\n",
    "\n",
    "    def forward(self, x):\n",
    "        x = self.flatten(x)\n",
    "        logits = self.linear_relu_stack(x)\n",
    "        return logits\n",
    "\n",
    "model = NeuralNetwork()"
   ]
  },
  {
   "cell_type": "code",
   "execution_count": 2,
   "id": "daa7e783",
   "metadata": {},
   "outputs": [],
   "source": [
    "learning_rate = 1e-3"
   ]
  },
  {
   "cell_type": "code",
   "execution_count": 3,
   "id": "04df5a15",
   "metadata": {},
   "outputs": [],
   "source": [
    "batch_size = 64"
   ]
  },
  {
   "cell_type": "code",
   "execution_count": 4,
   "id": "1dc780d4",
   "metadata": {},
   "outputs": [],
   "source": [
    "epochs = 5"
   ]
  },
  {
   "cell_type": "code",
   "execution_count": 5,
   "id": "cf594c47",
   "metadata": {},
   "outputs": [
    {
     "data": {
      "text/plain": [
       "torch.nn.modules.loss.MSELoss"
      ]
     },
     "execution_count": 5,
     "metadata": {},
     "output_type": "execute_result"
    }
   ],
   "source": [
    "nn.MSELoss"
   ]
  },
  {
   "cell_type": "code",
   "execution_count": 6,
   "id": "c48cc89d",
   "metadata": {},
   "outputs": [],
   "source": [
    "loss_fn = nn.CrossEntropyLoss()"
   ]
  },
  {
   "cell_type": "code",
   "execution_count": 7,
   "id": "03e0e64c",
   "metadata": {},
   "outputs": [],
   "source": [
    "optimizer = torch.optim.SGD(\n",
    "    model.parameters(),\n",
    "    lr = learning_rate,\n",
    "    )"
   ]
  },
  {
   "cell_type": "code",
   "execution_count": 21,
   "id": "93e0a856",
   "metadata": {},
   "outputs": [],
   "source": [
    "def train_loop(\n",
    "    dataloader, \n",
    "    model,\n",
    "    loss_fn,\n",
    "    optimizer,\n",
    "    ):\n",
    "    \n",
    "    size = len(dataloader.dataset)\n",
    "    \n",
    "    for batch, (X,y) in enumerate(dataloader):\n",
    "        \n",
    "        pred = model(X)\n",
    "        loss = loss_fn(pred, y)\n",
    "        \n",
    "        optimizer.zero_grad()\n",
    "        loss.backward()\n",
    "        optimizer.step()   \n",
    "        \n",
    "        if batch %100 == 0:\n",
    "            loss, current = loss.item(), batch * len(X)\n",
    "            print(f\"loss: {loss:>7f}, [{current:>5d}/{size:>5d}]\")        \n",
    "    \n",
    "    return None"
   ]
  },
  {
   "cell_type": "code",
   "execution_count": 28,
   "id": "c377df75",
   "metadata": {},
   "outputs": [],
   "source": [
    "def test_loop(\n",
    "    dataloader,\n",
    "    model,\n",
    "    loss_fn,\n",
    "    ):\n",
    "    size = len(dataloader.dataset)\n",
    "    \n",
    "    num_batches = len(dataloader)\n",
    "    \n",
    "    test_loss, correct = 0, 0\n",
    "    \n",
    "    with torch.no_grad():\n",
    "        for X, y in dataloader:\n",
    "            pred = model(X)\n",
    "            \n",
    "            test_loss +=  loss_fn(pred, y).item()\n",
    "            \n",
    "            correct += (pred.argmax(1) == y).type(torch.float).sum().item()\n",
    "\n",
    "    test_loss /= num_batches\n",
    "    correct /= size\n",
    "    \n",
    "    print(f\"Test Error: \\n Accuracy: {100*correct:>0.1f}%, Avg loss: {test_loss:>8f} \\n\")\n",
    "    \n",
    "    return None"
   ]
  },
  {
   "cell_type": "code",
   "execution_count": 10,
   "id": "c0dff792",
   "metadata": {},
   "outputs": [
    {
     "data": {
      "text/plain": [
       "CrossEntropyLoss()"
      ]
     },
     "execution_count": 10,
     "metadata": {},
     "output_type": "execute_result"
    }
   ],
   "source": [
    "loss_fn"
   ]
  },
  {
   "cell_type": "code",
   "execution_count": 12,
   "id": "4cb7bcc2",
   "metadata": {},
   "outputs": [
    {
     "data": {
      "text/plain": [
       "SGD (\n",
       "Parameter Group 0\n",
       "    dampening: 0\n",
       "    lr: 0.001\n",
       "    maximize: False\n",
       "    momentum: 0\n",
       "    nesterov: False\n",
       "    weight_decay: 0\n",
       ")"
      ]
     },
     "execution_count": 12,
     "metadata": {},
     "output_type": "execute_result"
    }
   ],
   "source": [
    "optimizer"
   ]
  },
  {
   "cell_type": "code",
   "execution_count": 22,
   "id": "8f0f73d1",
   "metadata": {},
   "outputs": [
    {
     "name": "stdout",
     "output_type": "stream",
     "text": [
      "loss: 2.157367, [    0/60000]\n",
      "loss: 2.144519, [ 6400/60000]\n",
      "loss: 2.086717, [12800/60000]\n",
      "loss: 2.109443, [19200/60000]\n",
      "loss: 2.062695, [25600/60000]\n",
      "loss: 1.995951, [32000/60000]\n",
      "loss: 2.024868, [38400/60000]\n",
      "loss: 1.941475, [44800/60000]\n",
      "loss: 1.945749, [51200/60000]\n",
      "loss: 1.888305, [57600/60000]\n"
     ]
    }
   ],
   "source": [
    "train_loop(\n",
    "    train_dataloader,\n",
    "    model,\n",
    "    loss_fn,\n",
    "    optimizer,\n",
    "    )"
   ]
  },
  {
   "cell_type": "code",
   "execution_count": 29,
   "id": "2db112c5",
   "metadata": {},
   "outputs": [
    {
     "name": "stdout",
     "output_type": "stream",
     "text": [
      "Test Error: \n",
      " Accuracy: 54.6%, Avg loss: 1.878540 \n",
      "\n"
     ]
    }
   ],
   "source": [
    "test_loop(\n",
    "    test_dataloader,\n",
    "    model, \n",
    "    loss_fn\n",
    "    )"
   ]
  },
  {
   "cell_type": "code",
   "execution_count": 33,
   "id": "32b00e3d",
   "metadata": {},
   "outputs": [
    {
     "name": "stdout",
     "output_type": "stream",
     "text": [
      "\n",
      "Epoch 1\n",
      "--------------------\n",
      "loss: 1.481768, [    0/60000]\n",
      "loss: 1.452743, [ 6400/60000]\n",
      "loss: 1.303684, [12800/60000]\n",
      "loss: 1.388414, [19200/60000]\n",
      "loss: 1.284386, [25600/60000]\n",
      "loss: 1.280300, [32000/60000]\n",
      "loss: 1.295261, [38400/60000]\n",
      "loss: 1.231525, [44800/60000]\n",
      "loss: 1.260842, [51200/60000]\n",
      "loss: 1.179737, [57600/60000]\n",
      "Test Error: \n",
      " Accuracy: 64.1%, Avg loss: 1.196458 \n",
      "\n",
      "\n",
      "Epoch 2\n",
      "--------------------\n",
      "loss: 1.267625, [    0/60000]\n",
      "loss: 1.255061, [ 6400/60000]\n",
      "loss: 1.090015, [12800/60000]\n",
      "loss: 1.201507, [19200/60000]\n",
      "loss: 1.092174, [25600/60000]\n",
      "loss: 1.112073, [32000/60000]\n",
      "loss: 1.133956, [38400/60000]\n",
      "loss: 1.080755, [44800/60000]\n",
      "loss: 1.111408, [51200/60000]\n",
      "loss: 1.044954, [57600/60000]\n",
      "Test Error: \n",
      " Accuracy: 65.0%, Avg loss: 1.054579 \n",
      "\n",
      "\n",
      "Epoch 3\n",
      "--------------------\n",
      "loss: 1.119784, [    0/60000]\n",
      "loss: 1.127008, [ 6400/60000]\n",
      "loss: 0.945162, [12800/60000]\n",
      "loss: 1.079540, [19200/60000]\n",
      "loss: 0.969302, [25600/60000]\n",
      "loss: 0.995253, [32000/60000]\n",
      "loss: 1.029698, [38400/60000]\n",
      "loss: 0.982115, [44800/60000]\n",
      "loss: 1.010350, [51200/60000]\n",
      "loss: 0.957892, [57600/60000]\n",
      "Test Error: \n",
      " Accuracy: 66.0%, Avg loss: 0.960448 \n",
      "\n",
      "Done!\n"
     ]
    }
   ],
   "source": [
    "epochs = 3\n",
    "\n",
    "for t in range(epochs):\n",
    "    print(f\"\\nEpoch {t+1}\\n--------------------\")\n",
    "    \n",
    "    train_loop(\n",
    "        train_dataloader,\n",
    "        model,\n",
    "        loss_fn,\n",
    "        optimizer,\n",
    "        )\n",
    "    \n",
    "    test_loop(\n",
    "        test_dataloader,\n",
    "        model, \n",
    "        loss_fn\n",
    "        )\n",
    "\n",
    "print(\"Done!\")"
   ]
  },
  {
   "cell_type": "markdown",
   "id": "6af13746",
   "metadata": {},
   "source": [
    "##### END"
   ]
  }
 ],
 "metadata": {
  "kernelspec": {
   "display_name": "Python 3 (ipykernel)",
   "language": "python",
   "name": "python3"
  },
  "language_info": {
   "codemirror_mode": {
    "name": "ipython",
    "version": 3
   },
   "file_extension": ".py",
   "mimetype": "text/x-python",
   "name": "python",
   "nbconvert_exporter": "python",
   "pygments_lexer": "ipython3",
   "version": "3.9.6"
  }
 },
 "nbformat": 4,
 "nbformat_minor": 5
}
