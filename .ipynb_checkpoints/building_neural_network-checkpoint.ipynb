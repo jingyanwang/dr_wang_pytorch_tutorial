{
 "cells": [
  {
   "cell_type": "code",
   "execution_count": 1,
   "id": "6e1cafd9",
   "metadata": {},
   "outputs": [],
   "source": [
    "import os\n",
    "import torch\n",
    "from torch import nn\n",
    "from torch.utils.data import DataLoader\n",
    "from torchvision import datasets, transforms"
   ]
  },
  {
   "cell_type": "code",
   "execution_count": 2,
   "id": "4a6ae469",
   "metadata": {},
   "outputs": [],
   "source": [
    "device = \"cuda\" if torch.cuda.is_available() else \"cpu\""
   ]
  },
  {
   "cell_type": "code",
   "execution_count": 3,
   "id": "d3d85728",
   "metadata": {},
   "outputs": [
    {
     "data": {
      "text/plain": [
       "'cuda'"
      ]
     },
     "execution_count": 3,
     "metadata": {},
     "output_type": "execute_result"
    }
   ],
   "source": [
    "device"
   ]
  },
  {
   "cell_type": "code",
   "execution_count": 12,
   "id": "617514b5",
   "metadata": {},
   "outputs": [],
   "source": [
    "class NeuralNetwork(\n",
    "    nn.Module,\n",
    "    ):\n",
    "    \n",
    "    def __init__(\n",
    "        self\n",
    "        ):\n",
    "        super(\n",
    "            NeuralNetwork, \n",
    "            self).__init__()\n",
    "        self.flatten = nn.Flatten()\n",
    "        self.linear_relu_stack = nn.Sequential(\n",
    "            nn.Linear(28*28, 512),\n",
    "            nn.ReLU(),\n",
    "            nn.Linear(512,512),\n",
    "            nn.ReLU(),\n",
    "            nn.Linear(512, 10)\n",
    "            )\n",
    "        \n",
    "    def forward(\n",
    "        self,\n",
    "        x):\n",
    "        x = self.flatten(x)\n",
    "        logits = self.linear_relu_stack(x)\n",
    "        return logits"
   ]
  },
  {
   "cell_type": "code",
   "execution_count": 13,
   "id": "3f691552",
   "metadata": {},
   "outputs": [],
   "source": [
    "model = NeuralNetwork().to(device)"
   ]
  },
  {
   "cell_type": "code",
   "execution_count": 14,
   "id": "8164d569",
   "metadata": {},
   "outputs": [
    {
     "name": "stdout",
     "output_type": "stream",
     "text": [
      "NeuralNetwork(\n",
      "  (flatten): Flatten(start_dim=1, end_dim=-1)\n",
      "  (linear_relu_stack): Sequential(\n",
      "    (0): Linear(in_features=784, out_features=512, bias=True)\n",
      "    (1): ReLU()\n",
      "    (2): Linear(in_features=512, out_features=512, bias=True)\n",
      "    (3): ReLU()\n",
      "    (4): Linear(in_features=512, out_features=10, bias=True)\n",
      "  )\n",
      ")\n"
     ]
    }
   ],
   "source": [
    "print(model)"
   ]
  },
  {
   "cell_type": "code",
   "execution_count": 15,
   "id": "f910b5fa",
   "metadata": {},
   "outputs": [],
   "source": [
    "X = torch.rand(1, 28, 28, device = device)"
   ]
  },
  {
   "cell_type": "code",
   "execution_count": 17,
   "id": "682773d9",
   "metadata": {},
   "outputs": [],
   "source": [
    "logits = model(X)"
   ]
  },
  {
   "cell_type": "code",
   "execution_count": 19,
   "id": "3c1c8bb1",
   "metadata": {},
   "outputs": [],
   "source": [
    "pred_probab = nn.Softmax(dim = 1)(logits)"
   ]
  },
  {
   "cell_type": "code",
   "execution_count": 20,
   "id": "074ff155",
   "metadata": {},
   "outputs": [
    {
     "data": {
      "text/plain": [
       "tensor([[0.0975, 0.1010, 0.0993, 0.1009, 0.0918, 0.1046, 0.0972, 0.1077, 0.1014,\n",
       "         0.0986]], device='cuda:0', grad_fn=<SoftmaxBackward0>)"
      ]
     },
     "execution_count": 20,
     "metadata": {},
     "output_type": "execute_result"
    }
   ],
   "source": [
    "pred_probab"
   ]
  },
  {
   "cell_type": "code",
   "execution_count": 23,
   "id": "c5a3bd98",
   "metadata": {},
   "outputs": [],
   "source": [
    "y_pred = pred_probab.argmax(1)"
   ]
  },
  {
   "cell_type": "code",
   "execution_count": 24,
   "id": "d3346fae",
   "metadata": {},
   "outputs": [
    {
     "name": "stdout",
     "output_type": "stream",
     "text": [
      "Predicted class: tensor([7], device='cuda:0')\n"
     ]
    }
   ],
   "source": [
    "print(f\"Predicted class: {y_pred}\")"
   ]
  },
  {
   "cell_type": "code",
   "execution_count": 28,
   "id": "288843c3",
   "metadata": {},
   "outputs": [],
   "source": [
    "input_image = torch.rand(3,28,28)"
   ]
  },
  {
   "cell_type": "code",
   "execution_count": 29,
   "id": "574167b0",
   "metadata": {},
   "outputs": [
    {
     "data": {
      "text/plain": [
       "torch.Size([3, 28, 28])"
      ]
     },
     "execution_count": 29,
     "metadata": {},
     "output_type": "execute_result"
    }
   ],
   "source": [
    "input_image.size()"
   ]
  },
  {
   "cell_type": "code",
   "execution_count": 27,
   "id": "92767431",
   "metadata": {},
   "outputs": [],
   "source": [
    "flatten = nn.Flatten()"
   ]
  },
  {
   "cell_type": "code",
   "execution_count": 30,
   "id": "13061b20",
   "metadata": {},
   "outputs": [],
   "source": [
    "flat_image = flatten(input_image)"
   ]
  },
  {
   "cell_type": "code",
   "execution_count": 31,
   "id": "73695377",
   "metadata": {},
   "outputs": [
    {
     "data": {
      "text/plain": [
       "torch.Size([3, 784])"
      ]
     },
     "execution_count": 31,
     "metadata": {},
     "output_type": "execute_result"
    }
   ],
   "source": [
    "flat_image.size()"
   ]
  },
  {
   "cell_type": "code",
   "execution_count": 32,
   "id": "59019c21",
   "metadata": {},
   "outputs": [],
   "source": [
    "layer1 = nn.Linear(\n",
    "    in_features = 28*28,\n",
    "    out_features = 20\n",
    "    )"
   ]
  },
  {
   "cell_type": "code",
   "execution_count": 34,
   "id": "ea2733a3",
   "metadata": {},
   "outputs": [],
   "source": [
    "hidden1 = layer1(flat_image)"
   ]
  },
  {
   "cell_type": "code",
   "execution_count": 35,
   "id": "201d513c",
   "metadata": {},
   "outputs": [
    {
     "data": {
      "text/plain": [
       "torch.Size([3, 20])"
      ]
     },
     "execution_count": 35,
     "metadata": {},
     "output_type": "execute_result"
    }
   ],
   "source": [
    "hidden1.size()"
   ]
  },
  {
   "cell_type": "code",
   "execution_count": 36,
   "id": "5c848a6e",
   "metadata": {},
   "outputs": [
    {
     "data": {
      "text/plain": [
       "tensor([[ 0.2857, -0.1499, -0.3709, -0.1989, -0.4130,  0.1529,  0.2882,  0.0182,\n",
       "          0.1174,  0.1636, -0.5226, -0.5106, -0.1532, -0.1804,  0.1797, -0.3608,\n",
       "         -0.4066, -0.1069,  0.0069, -0.2376],\n",
       "        [ 0.3028, -0.4913, -0.0369,  0.0108, -0.0285,  0.0046,  0.4348,  0.4380,\n",
       "          0.1489, -0.0225, -0.1729, -0.6569, -0.3202,  0.1359,  0.0804, -0.4459,\n",
       "         -0.4656, -0.0598, -0.3958, -0.1191],\n",
       "        [ 0.1137, -0.1186,  0.2247,  0.0129, -0.2934,  0.0902,  0.5779,  0.2643,\n",
       "          0.1694,  0.0784, -0.4520, -0.0782, -0.2752, -0.2661,  0.3103, -0.4763,\n",
       "         -0.5173,  0.2965, -0.2175, -0.2492]], grad_fn=<AddmmBackward0>)"
      ]
     },
     "execution_count": 36,
     "metadata": {},
     "output_type": "execute_result"
    }
   ],
   "source": [
    "hidden1"
   ]
  },
  {
   "cell_type": "code",
   "execution_count": 37,
   "id": "0a4b5149",
   "metadata": {},
   "outputs": [],
   "source": [
    "hidden1 = nn.ReLU()(hidden1)"
   ]
  },
  {
   "cell_type": "code",
   "execution_count": 38,
   "id": "3daec91f",
   "metadata": {},
   "outputs": [
    {
     "data": {
      "text/plain": [
       "tensor([[0.2857, 0.0000, 0.0000, 0.0000, 0.0000, 0.1529, 0.2882, 0.0182, 0.1174,\n",
       "         0.1636, 0.0000, 0.0000, 0.0000, 0.0000, 0.1797, 0.0000, 0.0000, 0.0000,\n",
       "         0.0069, 0.0000],\n",
       "        [0.3028, 0.0000, 0.0000, 0.0108, 0.0000, 0.0046, 0.4348, 0.4380, 0.1489,\n",
       "         0.0000, 0.0000, 0.0000, 0.0000, 0.1359, 0.0804, 0.0000, 0.0000, 0.0000,\n",
       "         0.0000, 0.0000],\n",
       "        [0.1137, 0.0000, 0.2247, 0.0129, 0.0000, 0.0902, 0.5779, 0.2643, 0.1694,\n",
       "         0.0784, 0.0000, 0.0000, 0.0000, 0.0000, 0.3103, 0.0000, 0.0000, 0.2965,\n",
       "         0.0000, 0.0000]], grad_fn=<ReluBackward0>)"
      ]
     },
     "execution_count": 38,
     "metadata": {},
     "output_type": "execute_result"
    }
   ],
   "source": [
    "hidden1"
   ]
  },
  {
   "cell_type": "code",
   "execution_count": null,
   "id": "21a2f3fe",
   "metadata": {},
   "outputs": [],
   "source": []
  },
  {
   "cell_type": "code",
   "execution_count": null,
   "id": "dc57a8a4",
   "metadata": {},
   "outputs": [],
   "source": []
  },
  {
   "cell_type": "markdown",
   "id": "72a4ea9c",
   "metadata": {},
   "source": [
    "##### END"
   ]
  }
 ],
 "metadata": {
  "kernelspec": {
   "display_name": "Python 3 (ipykernel)",
   "language": "python",
   "name": "python3"
  },
  "language_info": {
   "codemirror_mode": {
    "name": "ipython",
    "version": 3
   },
   "file_extension": ".py",
   "mimetype": "text/x-python",
   "name": "python",
   "nbconvert_exporter": "python",
   "pygments_lexer": "ipython3",
   "version": "3.9.6"
  }
 },
 "nbformat": 4,
 "nbformat_minor": 5
}
