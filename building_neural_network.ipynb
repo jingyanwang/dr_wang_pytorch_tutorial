{
 "cells": [
  {
   "cell_type": "code",
   "execution_count": 1,
   "id": "d2dffa55",
   "metadata": {},
   "outputs": [],
   "source": [
    "import os\n",
    "import torch\n",
    "from torch import nn\n",
    "from torch.utils.data import DataLoader\n",
    "from torchvision import datasets, transforms"
   ]
  },
  {
   "cell_type": "code",
   "execution_count": 2,
   "id": "6fefff8d",
   "metadata": {},
   "outputs": [],
   "source": [
    "device = \"cuda\" if torch.cuda.is_available() else \"cpu\""
   ]
  },
  {
   "cell_type": "code",
   "execution_count": 3,
   "id": "48a6d229",
   "metadata": {},
   "outputs": [
    {
     "data": {
      "text/plain": [
       "'cuda'"
      ]
     },
     "execution_count": 3,
     "metadata": {},
     "output_type": "execute_result"
    }
   ],
   "source": [
    "device"
   ]
  },
  {
   "cell_type": "code",
   "execution_count": 12,
   "id": "8a02463f",
   "metadata": {},
   "outputs": [],
   "source": [
    "class NeuralNetwork(\n",
    "    nn.Module,\n",
    "    ):\n",
    "    \n",
    "    def __init__(\n",
    "        self\n",
    "        ):\n",
    "        super(\n",
    "            NeuralNetwork, \n",
    "            self).__init__()\n",
    "        self.flatten = nn.Flatten()\n",
    "        self.linear_relu_stack = nn.Sequential(\n",
    "            nn.Linear(28*28, 512),\n",
    "            nn.ReLU(),\n",
    "            nn.Linear(512,512),\n",
    "            nn.ReLU(),\n",
    "            nn.Linear(512, 10)\n",
    "            )\n",
    "        \n",
    "    def forward(\n",
    "        self,\n",
    "        x):\n",
    "        x = self.flatten(x)\n",
    "        logits = self.linear_relu_stack(x)\n",
    "        return logits"
   ]
  },
  {
   "cell_type": "code",
   "execution_count": 13,
   "id": "3f3f3f41",
   "metadata": {},
   "outputs": [],
   "source": [
    "model = NeuralNetwork().to(device)"
   ]
  },
  {
   "cell_type": "code",
   "execution_count": 14,
   "id": "f00dacf1",
   "metadata": {},
   "outputs": [
    {
     "name": "stdout",
     "output_type": "stream",
     "text": [
      "NeuralNetwork(\n",
      "  (flatten): Flatten(start_dim=1, end_dim=-1)\n",
      "  (linear_relu_stack): Sequential(\n",
      "    (0): Linear(in_features=784, out_features=512, bias=True)\n",
      "    (1): ReLU()\n",
      "    (2): Linear(in_features=512, out_features=512, bias=True)\n",
      "    (3): ReLU()\n",
      "    (4): Linear(in_features=512, out_features=10, bias=True)\n",
      "  )\n",
      ")\n"
     ]
    }
   ],
   "source": [
    "print(model)"
   ]
  },
  {
   "cell_type": "code",
   "execution_count": 15,
   "id": "dc81e097",
   "metadata": {},
   "outputs": [],
   "source": [
    "X = torch.rand(1, 28, 28, device = device)"
   ]
  },
  {
   "cell_type": "code",
   "execution_count": 17,
   "id": "9af3aee1",
   "metadata": {},
   "outputs": [],
   "source": [
    "logits = model(X)"
   ]
  },
  {
   "cell_type": "code",
   "execution_count": 19,
   "id": "4a3560bc",
   "metadata": {},
   "outputs": [],
   "source": [
    "pred_probab = nn.Softmax(dim = 1)(logits)"
   ]
  },
  {
   "cell_type": "code",
   "execution_count": 20,
   "id": "2589366a",
   "metadata": {},
   "outputs": [
    {
     "data": {
      "text/plain": [
       "tensor([[0.0975, 0.1010, 0.0993, 0.1009, 0.0918, 0.1046, 0.0972, 0.1077, 0.1014,\n",
       "         0.0986]], device='cuda:0', grad_fn=<SoftmaxBackward0>)"
      ]
     },
     "execution_count": 20,
     "metadata": {},
     "output_type": "execute_result"
    }
   ],
   "source": [
    "pred_probab"
   ]
  },
  {
   "cell_type": "code",
   "execution_count": 23,
   "id": "a8f53b53",
   "metadata": {},
   "outputs": [],
   "source": [
    "y_pred = pred_probab.argmax(1)"
   ]
  },
  {
   "cell_type": "code",
   "execution_count": 24,
   "id": "42abfa0c",
   "metadata": {},
   "outputs": [
    {
     "name": "stdout",
     "output_type": "stream",
     "text": [
      "Predicted class: tensor([7], device='cuda:0')\n"
     ]
    }
   ],
   "source": [
    "print(f\"Predicted class: {y_pred}\")"
   ]
  },
  {
   "cell_type": "code",
   "execution_count": 28,
   "id": "4c06d35a",
   "metadata": {},
   "outputs": [],
   "source": [
    "input_image = torch.rand(3,28,28)"
   ]
  },
  {
   "cell_type": "code",
   "execution_count": 29,
   "id": "4a326420",
   "metadata": {},
   "outputs": [
    {
     "data": {
      "text/plain": [
       "torch.Size([3, 28, 28])"
      ]
     },
     "execution_count": 29,
     "metadata": {},
     "output_type": "execute_result"
    }
   ],
   "source": [
    "input_image.size()"
   ]
  },
  {
   "cell_type": "code",
   "execution_count": 27,
   "id": "64a1ef02",
   "metadata": {},
   "outputs": [],
   "source": [
    "flatten = nn.Flatten()"
   ]
  },
  {
   "cell_type": "code",
   "execution_count": 30,
   "id": "f53d548a",
   "metadata": {},
   "outputs": [],
   "source": [
    "flat_image = flatten(input_image)"
   ]
  },
  {
   "cell_type": "code",
   "execution_count": 31,
   "id": "aef54350",
   "metadata": {},
   "outputs": [
    {
     "data": {
      "text/plain": [
       "torch.Size([3, 784])"
      ]
     },
     "execution_count": 31,
     "metadata": {},
     "output_type": "execute_result"
    }
   ],
   "source": [
    "flat_image.size()"
   ]
  },
  {
   "cell_type": "code",
   "execution_count": 32,
   "id": "ab2bdf59",
   "metadata": {},
   "outputs": [],
   "source": [
    "layer1 = nn.Linear(\n",
    "    in_features = 28*28,\n",
    "    out_features = 20\n",
    "    )"
   ]
  },
  {
   "cell_type": "code",
   "execution_count": 34,
   "id": "d0cf7161",
   "metadata": {},
   "outputs": [],
   "source": [
    "hidden1 = layer1(flat_image)"
   ]
  },
  {
   "cell_type": "code",
   "execution_count": 35,
   "id": "3ea0e4ec",
   "metadata": {},
   "outputs": [
    {
     "data": {
      "text/plain": [
       "torch.Size([3, 20])"
      ]
     },
     "execution_count": 35,
     "metadata": {},
     "output_type": "execute_result"
    }
   ],
   "source": [
    "hidden1.size()"
   ]
  },
  {
   "cell_type": "code",
   "execution_count": 36,
   "id": "1c088f0d",
   "metadata": {},
   "outputs": [
    {
     "data": {
      "text/plain": [
       "tensor([[ 0.2857, -0.1499, -0.3709, -0.1989, -0.4130,  0.1529,  0.2882,  0.0182,\n",
       "          0.1174,  0.1636, -0.5226, -0.5106, -0.1532, -0.1804,  0.1797, -0.3608,\n",
       "         -0.4066, -0.1069,  0.0069, -0.2376],\n",
       "        [ 0.3028, -0.4913, -0.0369,  0.0108, -0.0285,  0.0046,  0.4348,  0.4380,\n",
       "          0.1489, -0.0225, -0.1729, -0.6569, -0.3202,  0.1359,  0.0804, -0.4459,\n",
       "         -0.4656, -0.0598, -0.3958, -0.1191],\n",
       "        [ 0.1137, -0.1186,  0.2247,  0.0129, -0.2934,  0.0902,  0.5779,  0.2643,\n",
       "          0.1694,  0.0784, -0.4520, -0.0782, -0.2752, -0.2661,  0.3103, -0.4763,\n",
       "         -0.5173,  0.2965, -0.2175, -0.2492]], grad_fn=<AddmmBackward0>)"
      ]
     },
     "execution_count": 36,
     "metadata": {},
     "output_type": "execute_result"
    }
   ],
   "source": [
    "hidden1"
   ]
  },
  {
   "cell_type": "code",
   "execution_count": 37,
   "id": "916e0779",
   "metadata": {},
   "outputs": [],
   "source": [
    "hidden1 = nn.ReLU()(hidden1)"
   ]
  },
  {
   "cell_type": "code",
   "execution_count": 38,
   "id": "104e81d6",
   "metadata": {},
   "outputs": [
    {
     "data": {
      "text/plain": [
       "tensor([[0.2857, 0.0000, 0.0000, 0.0000, 0.0000, 0.1529, 0.2882, 0.0182, 0.1174,\n",
       "         0.1636, 0.0000, 0.0000, 0.0000, 0.0000, 0.1797, 0.0000, 0.0000, 0.0000,\n",
       "         0.0069, 0.0000],\n",
       "        [0.3028, 0.0000, 0.0000, 0.0108, 0.0000, 0.0046, 0.4348, 0.4380, 0.1489,\n",
       "         0.0000, 0.0000, 0.0000, 0.0000, 0.1359, 0.0804, 0.0000, 0.0000, 0.0000,\n",
       "         0.0000, 0.0000],\n",
       "        [0.1137, 0.0000, 0.2247, 0.0129, 0.0000, 0.0902, 0.5779, 0.2643, 0.1694,\n",
       "         0.0784, 0.0000, 0.0000, 0.0000, 0.0000, 0.3103, 0.0000, 0.0000, 0.2965,\n",
       "         0.0000, 0.0000]], grad_fn=<ReluBackward0>)"
      ]
     },
     "execution_count": 38,
     "metadata": {},
     "output_type": "execute_result"
    }
   ],
   "source": [
    "hidden1"
   ]
  },
  {
   "cell_type": "code",
   "execution_count": 39,
   "id": "eec5d9df",
   "metadata": {},
   "outputs": [],
   "source": [
    "seq_modules = nn.Sequential(\n",
    "    flatten,\n",
    "    layer1,\n",
    "    nn.ReLU(),\n",
    "    nn.Linear(20, 10)\n",
    "    )"
   ]
  },
  {
   "cell_type": "code",
   "execution_count": 40,
   "id": "7a3aae31",
   "metadata": {},
   "outputs": [],
   "source": [
    "input_image = torch.rand(3, 28,28)"
   ]
  },
  {
   "cell_type": "code",
   "execution_count": 45,
   "id": "8989a52d",
   "metadata": {},
   "outputs": [],
   "source": [
    "logits = seq_modules(\n",
    "    input_image)"
   ]
  },
  {
   "cell_type": "code",
   "execution_count": 42,
   "id": "21646da6",
   "metadata": {},
   "outputs": [
    {
     "data": {
      "text/plain": [
       "tensor([[ 0.1163, -0.2119, -0.0744,  0.0219,  0.2341, -0.3438, -0.3983,  0.4193,\n",
       "         -0.0112, -0.1047],\n",
       "        [-0.1168, -0.0100,  0.0731,  0.0283,  0.1995, -0.1358, -0.2967,  0.3080,\n",
       "          0.0305, -0.1462],\n",
       "        [-0.0330, -0.1033,  0.0247,  0.0452,  0.1594, -0.2422, -0.2953,  0.3030,\n",
       "         -0.1229, -0.1653]], grad_fn=<AddmmBackward0>)"
      ]
     },
     "execution_count": 42,
     "metadata": {},
     "output_type": "execute_result"
    }
   ],
   "source": [
    "logits"
   ]
  },
  {
   "cell_type": "code",
   "execution_count": 43,
   "id": "a77f35df",
   "metadata": {},
   "outputs": [],
   "source": [
    "softmax = nn.Softmax(dim =1)"
   ]
  },
  {
   "cell_type": "code",
   "execution_count": 46,
   "id": "cda295f2",
   "metadata": {},
   "outputs": [],
   "source": [
    "pred_probab = softmax(logits)"
   ]
  },
  {
   "cell_type": "code",
   "execution_count": 47,
   "id": "140a5721",
   "metadata": {},
   "outputs": [
    {
     "data": {
      "text/plain": [
       "tensor([[0.1130, 0.0814, 0.0934, 0.1029, 0.1272, 0.0714, 0.0676, 0.1530, 0.0995,\n",
       "         0.0906],\n",
       "        [0.0883, 0.0982, 0.1068, 0.1021, 0.1211, 0.0866, 0.0738, 0.1350, 0.1023,\n",
       "         0.0857],\n",
       "        [0.0995, 0.0927, 0.1054, 0.1075, 0.1206, 0.0807, 0.0765, 0.1392, 0.0909,\n",
       "         0.0871]], grad_fn=<SoftmaxBackward0>)"
      ]
     },
     "execution_count": 47,
     "metadata": {},
     "output_type": "execute_result"
    }
   ],
   "source": [
    "pred_probab"
   ]
  },
  {
   "cell_type": "code",
   "execution_count": 49,
   "id": "a5b734e9",
   "metadata": {},
   "outputs": [
    {
     "data": {
      "text/plain": [
       "tensor([1.0000, 1.0000, 1.0000], grad_fn=<SumBackward1>)"
      ]
     },
     "execution_count": 49,
     "metadata": {},
     "output_type": "execute_result"
    }
   ],
   "source": [
    "pred_probab.sum(1)"
   ]
  },
  {
   "cell_type": "code",
   "execution_count": 50,
   "id": "c7490c55",
   "metadata": {},
   "outputs": [
    {
     "data": {
      "text/plain": [
       "NeuralNetwork(\n",
       "  (flatten): Flatten(start_dim=1, end_dim=-1)\n",
       "  (linear_relu_stack): Sequential(\n",
       "    (0): Linear(in_features=784, out_features=512, bias=True)\n",
       "    (1): ReLU()\n",
       "    (2): Linear(in_features=512, out_features=512, bias=True)\n",
       "    (3): ReLU()\n",
       "    (4): Linear(in_features=512, out_features=10, bias=True)\n",
       "  )\n",
       ")"
      ]
     },
     "execution_count": 50,
     "metadata": {},
     "output_type": "execute_result"
    }
   ],
   "source": [
    "model"
   ]
  },
  {
   "cell_type": "code",
   "execution_count": 51,
   "id": "fa2429ca",
   "metadata": {},
   "outputs": [
    {
     "name": "stdout",
     "output_type": "stream",
     "text": [
      "Layer:linear_relu_stack.0.weight | Size: torch.Size([512, 784]) | Values: tensor([[ 0.0081, -0.0022, -0.0318,  ..., -0.0351,  0.0033,  0.0257],\n",
      "        [ 0.0233,  0.0273,  0.0045,  ..., -0.0331, -0.0206, -0.0136]],\n",
      "       device='cuda:0', grad_fn=<SliceBackward0>) \n",
      "\n",
      "Layer:linear_relu_stack.0.bias | Size: torch.Size([512]) | Values: tensor([ 0.0092, -0.0229], device='cuda:0', grad_fn=<SliceBackward0>) \n",
      "\n",
      "Layer:linear_relu_stack.2.weight | Size: torch.Size([512, 512]) | Values: tensor([[-0.0249,  0.0344,  0.0242,  ..., -0.0160,  0.0340,  0.0131],\n",
      "        [ 0.0184, -0.0328, -0.0141,  ...,  0.0332,  0.0111, -0.0339]],\n",
      "       device='cuda:0', grad_fn=<SliceBackward0>) \n",
      "\n",
      "Layer:linear_relu_stack.2.bias | Size: torch.Size([512]) | Values: tensor([-0.0327,  0.0167], device='cuda:0', grad_fn=<SliceBackward0>) \n",
      "\n",
      "Layer:linear_relu_stack.4.weight | Size: torch.Size([10, 512]) | Values: tensor([[ 0.0333,  0.0100,  0.0057,  ...,  0.0273,  0.0269,  0.0211],\n",
      "        [ 0.0212, -0.0259, -0.0013,  ..., -0.0056, -0.0165,  0.0016]],\n",
      "       device='cuda:0', grad_fn=<SliceBackward0>) \n",
      "\n",
      "Layer:linear_relu_stack.4.bias | Size: torch.Size([10]) | Values: tensor([0.0170, 0.0392], device='cuda:0', grad_fn=<SliceBackward0>) \n",
      "\n"
     ]
    }
   ],
   "source": [
    "for name, param, in model.named_parameters():\n",
    "    print(f\"Layer:{name} | Size: {param.size()} | Values: {param[:2]} \\n\")"
   ]
  },
  {
   "cell_type": "code",
   "execution_count": null,
   "id": "1be50848",
   "metadata": {},
   "outputs": [],
   "source": []
  },
  {
   "cell_type": "code",
   "execution_count": null,
   "id": "4ea44bc2",
   "metadata": {},
   "outputs": [],
   "source": []
  },
  {
   "cell_type": "code",
   "execution_count": null,
   "id": "b4de9536",
   "metadata": {},
   "outputs": [],
   "source": []
  },
  {
   "cell_type": "code",
   "execution_count": null,
   "id": "b25b5873",
   "metadata": {},
   "outputs": [],
   "source": []
  },
  {
   "cell_type": "code",
   "execution_count": null,
   "id": "67bfbf1e",
   "metadata": {},
   "outputs": [],
   "source": []
  },
  {
   "cell_type": "markdown",
   "id": "502b88ad",
   "metadata": {},
   "source": [
    "##### END"
   ]
  }
 ],
 "metadata": {
  "kernelspec": {
   "display_name": "Python 3 (ipykernel)",
   "language": "python",
   "name": "python3"
  },
  "language_info": {
   "codemirror_mode": {
    "name": "ipython",
    "version": 3
   },
   "file_extension": ".py",
   "mimetype": "text/x-python",
   "name": "python",
   "nbconvert_exporter": "python",
   "pygments_lexer": "ipython3",
   "version": "3.9.6"
  }
 },
 "nbformat": 4,
 "nbformat_minor": 5
}
