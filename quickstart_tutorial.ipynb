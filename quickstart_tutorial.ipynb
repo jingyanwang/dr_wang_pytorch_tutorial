{
 "cells": [
  {
   "cell_type": "code",
   "execution_count": 1,
   "id": "41c6641c",
   "metadata": {},
   "outputs": [],
   "source": [
    "import torch"
   ]
  },
  {
   "cell_type": "code",
   "execution_count": 2,
   "id": "40efb3b8",
   "metadata": {},
   "outputs": [],
   "source": [
    "from torch import nn\n",
    "from torch.utils.data import DataLoader"
   ]
  },
  {
   "cell_type": "code",
   "execution_count": 4,
   "id": "6be82cf1",
   "metadata": {},
   "outputs": [],
   "source": [
    "import torchvision"
   ]
  },
  {
   "cell_type": "code",
   "execution_count": 6,
   "id": "a423de85",
   "metadata": {},
   "outputs": [],
   "source": [
    "from torchvision import datasets\n",
    "from torchvision.transforms import ToTensor"
   ]
  },
  {
   "cell_type": "code",
   "execution_count": 13,
   "id": "735f77f7",
   "metadata": {},
   "outputs": [],
   "source": [
    "training_data = datasets.FashionMNIST(\n",
    "    root = \"data\",\n",
    "    train = True,\n",
    "    download = True,\n",
    "    transform = ToTensor(),\n",
    "    )"
   ]
  },
  {
   "cell_type": "code",
   "execution_count": 9,
   "id": "b5b5a52d",
   "metadata": {},
   "outputs": [],
   "source": [
    "test_data = datasets.FashionMNIST(\n",
    "    root = \"data\",\n",
    "    train = False,\n",
    "    download = True,\n",
    "    transform = ToTensor(),\n",
    ")"
   ]
  },
  {
   "cell_type": "code",
   "execution_count": 10,
   "id": "a9af29e2",
   "metadata": {},
   "outputs": [
    {
     "data": {
      "text/plain": [
       "Dataset FashionMNIST\n",
       "    Number of datapoints: 10000\n",
       "    Root location: data\n",
       "    Split: Test\n",
       "    StandardTransform\n",
       "Transform: ToTensor()"
      ]
     },
     "execution_count": 10,
     "metadata": {},
     "output_type": "execute_result"
    }
   ],
   "source": [
    "test_data"
   ]
  },
  {
   "cell_type": "code",
   "execution_count": 11,
   "id": "53e49436",
   "metadata": {},
   "outputs": [],
   "source": [
    "batch_size = 64"
   ]
  },
  {
   "cell_type": "code",
   "execution_count": 14,
   "id": "b4fde53f",
   "metadata": {},
   "outputs": [],
   "source": [
    "train_dataloader = DataLoader(\n",
    "    training_data, \n",
    "    batch_size = batch_size,\n",
    "    )"
   ]
  },
  {
   "cell_type": "code",
   "execution_count": 15,
   "id": "65f26331",
   "metadata": {},
   "outputs": [],
   "source": [
    "test_dataloader = DataLoader(\n",
    "    test_data,\n",
    "    batch_size = batch_size,\n",
    ")"
   ]
  },
  {
   "cell_type": "code",
   "execution_count": 17,
   "id": "b00dbb09",
   "metadata": {},
   "outputs": [
    {
     "name": "stdout",
     "output_type": "stream",
     "text": [
      "Shape of X [N, C, H, W]:torch.Size([64, 1, 28, 28])\n",
      "Shape of y: torch.Size([64]), torch.int64\n"
     ]
    }
   ],
   "source": [
    "for X, y in test_dataloader:\n",
    "    print(f\"Shape of X [N, C, H, W]:{X.shape}\")\n",
    "    print(f\"Shape of y: {y.shape}, {y.dtype}\")\n",
    "    break"
   ]
  },
  {
   "cell_type": "code",
   "execution_count": 19,
   "id": "5ce720b4",
   "metadata": {},
   "outputs": [],
   "source": [
    "device = \"cuda\" if torch.cuda.is_available() else \"gpu\""
   ]
  },
  {
   "cell_type": "code",
   "execution_count": 21,
   "id": "2f22b803",
   "metadata": {},
   "outputs": [
    {
     "name": "stdout",
     "output_type": "stream",
     "text": [
      "Using cuda device\n"
     ]
    }
   ],
   "source": [
    "print(f\"Using {device} device\")"
   ]
  },
  {
   "cell_type": "code",
   "execution_count": 36,
   "id": "6c7eab32",
   "metadata": {},
   "outputs": [
    {
     "name": "stdout",
     "output_type": "stream",
     "text": [
      "NeuralNetwork(\n",
      "  (flatten): Flatten(start_dim=1, end_dim=-1)\n",
      "  (linear_relu_stack): Sequential(\n",
      "    (0): Linear(in_features=784, out_features=512, bias=True)\n",
      "    (1): ReLU()\n",
      "    (2): Linear(in_features=512, out_features=512, bias=True)\n",
      "    (3): ReLU()\n",
      "    (4): Linear(in_features=512, out_features=10, bias=True)\n",
      "  )\n",
      ")\n"
     ]
    }
   ],
   "source": [
    " class NeuralNetwork(nn.Module):\n",
    "        def __init__(self):\n",
    "            super(NeuralNetwork, self).__init__()\n",
    "            self.flatten = nn.Flatten()\n",
    "            self.linear_relu_stack = nn.Sequential(\n",
    "                nn.Linear(28*28, 512),\n",
    "                nn.ReLU(),\n",
    "                nn.Linear(512, 512),\n",
    "                nn.ReLU(),\n",
    "                nn.Linear(512, 10)\n",
    "                )\n",
    "        \n",
    "        def forward(self, x):\n",
    "            x = self.flatten(x)\n",
    "            logits = self.linear_relu_stack(x)\n",
    "            return logits\n",
    "\n",
    "model = NeuralNetwork().to(device)\n",
    "print(model)"
   ]
  },
  {
   "cell_type": "code",
   "execution_count": 37,
   "id": "90b53456",
   "metadata": {},
   "outputs": [],
   "source": [
    "loss_fn = nn.CrossEntropyLoss()"
   ]
  },
  {
   "cell_type": "code",
   "execution_count": 38,
   "id": "f3795fdc",
   "metadata": {},
   "outputs": [],
   "source": [
    "optimizer = torch.optim.SGD(\n",
    "    model.parameters(), \n",
    "    lr = 1e-3,\n",
    ")"
   ]
  },
  {
   "cell_type": "code",
   "execution_count": 39,
   "id": "fbd5f557",
   "metadata": {},
   "outputs": [],
   "source": [
    "def train(\n",
    "    dataloader,\n",
    "    model,\n",
    "    loss_fn,\n",
    "    optimizer,\n",
    "    ):\n",
    "    size = len(dataloader.dataset)\n",
    "    model.train()\n",
    "    for batch, (X, y) in enumerate(dataloader):\n",
    "        X, y = X.to(device), y.to(device)\n",
    "        \n",
    "        pred = model(X)\n",
    "        loss = loss_fn(pred, y)\n",
    "        \n",
    "        optimizer.zero_grad()\n",
    "        loss.backward()\n",
    "        optimizer.step()\n",
    "        \n",
    "        if batch % 100 == 0:\n",
    "            loss, current = loss.item(), batch * len(X)\n",
    "            print(f\"loss: {loss:>7f} [{current:>5d}]/{size:>5d}\")"
   ]
  },
  {
   "cell_type": "code",
   "execution_count": 47,
   "id": "3eec3d8d",
   "metadata": {},
   "outputs": [],
   "source": [
    "def test(\n",
    "    dataloader,\n",
    "    model,\n",
    "    loss_fn,\n",
    "    ):\n",
    "    size = len(dataloader.dataset)\n",
    "    num_batches = len(dataloader)\n",
    "    model.eval()\n",
    "    test_loss, correct = 0, 0\n",
    "    with torch.no_grad():\n",
    "        for X, y in dataloader:\n",
    "            X, y = X.to(device), y.to(device)\n",
    "            pred = model(X)\n",
    "            test_loss += loss_fn(pred, y).item()\n",
    "            correct += (pred.argmax(1) == y).type(torch.float).sum().item()\n",
    "        test_loss /= num_batches\n",
    "        correct /= size\n",
    "        print(f\"Test Error:\\n Accuracy {(100*correct):>0.1f}%, Avg loss: {test_loss:>8f}\")"
   ]
  },
  {
   "cell_type": "code",
   "execution_count": 48,
   "id": "be5cbacb",
   "metadata": {},
   "outputs": [
    {
     "name": "stdout",
     "output_type": "stream",
     "text": [
      "\n",
      "Epoch 1\n",
      "---------------------\n",
      "loss: 1.176709 [    0]/60000\n",
      "loss: 1.167671 [ 6400]/60000\n",
      "loss: 0.990554 [12800]/60000\n",
      "loss: 1.120201 [19200]/60000\n",
      "loss: 0.997473 [25600]/60000\n",
      "loss: 1.026986 [32000]/60000\n",
      "loss: 1.061035 [38400]/60000\n",
      "loss: 1.006832 [44800]/60000\n",
      "loss: 1.042521 [51200]/60000\n",
      "loss: 0.970586 [57600]/60000\n",
      "Test Error:\n",
      " Accuracy 66.2%, Avg loss: 0.988763\n",
      "\n",
      "Epoch 2\n",
      "---------------------\n",
      "loss: 1.055813 [    0]/60000\n",
      "loss: 1.070935 [ 6400]/60000\n",
      "loss: 0.875245 [12800]/60000\n",
      "loss: 1.028220 [19200]/60000\n",
      "loss: 0.907668 [25600]/60000\n",
      "loss: 0.932026 [32000]/60000\n",
      "loss: 0.983682 [38400]/60000\n",
      "loss: 0.931080 [44800]/60000\n",
      "loss: 0.962937 [51200]/60000\n",
      "loss: 0.903690 [57600]/60000\n",
      "Test Error:\n",
      " Accuracy 67.3%, Avg loss: 0.915299\n",
      "\n",
      "Epoch 3\n",
      "---------------------\n",
      "loss: 0.965604 [    0]/60000\n",
      "loss: 1.003141 [ 6400]/60000\n",
      "loss: 0.791658 [12800]/60000\n",
      "loss: 0.962074 [19200]/60000\n",
      "loss: 0.846889 [25600]/60000\n",
      "loss: 0.861435 [32000]/60000\n",
      "loss: 0.928814 [38400]/60000\n",
      "loss: 0.879323 [44800]/60000\n",
      "loss: 0.904875 [51200]/60000\n",
      "loss: 0.854907 [57600]/60000\n",
      "Test Error:\n",
      " Accuracy 68.4%, Avg loss: 0.861829\n",
      "\n",
      "Epoch 4\n",
      "---------------------\n",
      "loss: 0.895659 [    0]/60000\n",
      "loss: 0.951974 [ 6400]/60000\n",
      "loss: 0.728642 [12800]/60000\n",
      "loss: 0.911958 [19200]/60000\n",
      "loss: 0.803061 [25600]/60000\n",
      "loss: 0.808056 [32000]/60000\n",
      "loss: 0.887072 [38400]/60000\n",
      "loss: 0.842652 [44800]/60000\n",
      "loss: 0.861226 [51200]/60000\n",
      "loss: 0.817213 [57600]/60000\n",
      "Test Error:\n",
      " Accuracy 69.5%, Avg loss: 0.821118\n",
      "\n",
      "Epoch 5\n",
      "---------------------\n",
      "loss: 0.839927 [    0]/60000\n",
      "loss: 0.910922 [ 6400]/60000\n",
      "loss: 0.679604 [12800]/60000\n",
      "loss: 0.873050 [19200]/60000\n",
      "loss: 0.769667 [25600]/60000\n",
      "loss: 0.766991 [32000]/60000\n",
      "loss: 0.853271 [38400]/60000\n",
      "loss: 0.815485 [44800]/60000\n",
      "loss: 0.827483 [51200]/60000\n",
      "loss: 0.786494 [57600]/60000\n",
      "Test Error:\n",
      " Accuracy 70.8%, Avg loss: 0.788667\n"
     ]
    }
   ],
   "source": [
    "epochs = 5\n",
    "\n",
    "for t in range(epochs):\n",
    "    print(f\"\\nEpoch {t+1}\\n---------------------\")\n",
    "    train(\n",
    "        train_dataloader,\n",
    "        model, \n",
    "        loss_fn,\n",
    "        optimizer,\n",
    "        )\n",
    "    test(test_dataloader, model, loss_fn)"
   ]
  },
  {
   "cell_type": "code",
   "execution_count": 49,
   "id": "19afa882",
   "metadata": {},
   "outputs": [],
   "source": [
    "torch.save(model.state_dict(), \"model.pth\")"
   ]
  },
  {
   "cell_type": "code",
   "execution_count": 50,
   "id": "7cd8c1e1",
   "metadata": {},
   "outputs": [],
   "source": [
    "model = NeuralNetwork()"
   ]
  },
  {
   "cell_type": "code",
   "execution_count": 51,
   "id": "2a4bb130",
   "metadata": {},
   "outputs": [
    {
     "data": {
      "text/plain": [
       "<All keys matched successfully>"
      ]
     },
     "execution_count": 51,
     "metadata": {},
     "output_type": "execute_result"
    }
   ],
   "source": [
    "model.load_state_dict(torch.load(\"model.pth\"))"
   ]
  },
  {
   "cell_type": "code",
   "execution_count": 52,
   "id": "89e5faf9",
   "metadata": {},
   "outputs": [],
   "source": [
    "classes = [\n",
    "    \"T-shirt/top\",\n",
    "    \"Trouser\",\n",
    "    \"Pullover\",\n",
    "    \"Dress\",\n",
    "    \"Coat\",\n",
    "    \"Sandal\",\n",
    "    \"Shirt\",\n",
    "    \"Sneaker\",\n",
    "    \"Bag\",\n",
    "    \"Ankle boot\",\n",
    "]"
   ]
  },
  {
   "cell_type": "code",
   "execution_count": 53,
   "id": "1553fcdf",
   "metadata": {},
   "outputs": [
    {
     "data": {
      "text/plain": [
       "NeuralNetwork(\n",
       "  (flatten): Flatten(start_dim=1, end_dim=-1)\n",
       "  (linear_relu_stack): Sequential(\n",
       "    (0): Linear(in_features=784, out_features=512, bias=True)\n",
       "    (1): ReLU()\n",
       "    (2): Linear(in_features=512, out_features=512, bias=True)\n",
       "    (3): ReLU()\n",
       "    (4): Linear(in_features=512, out_features=10, bias=True)\n",
       "  )\n",
       ")"
      ]
     },
     "execution_count": 53,
     "metadata": {},
     "output_type": "execute_result"
    }
   ],
   "source": [
    "model.eval()"
   ]
  },
  {
   "cell_type": "code",
   "execution_count": 54,
   "id": "f84b27fe",
   "metadata": {},
   "outputs": [],
   "source": [
    "x, y = test_data[0][0], test_data[0][1]"
   ]
  },
  {
   "cell_type": "code",
   "execution_count": 55,
   "id": "dfbb0d39",
   "metadata": {},
   "outputs": [
    {
     "name": "stdout",
     "output_type": "stream",
     "text": [
      "Predicted: Ankle boot, Actual: Ankle boot\n"
     ]
    }
   ],
   "source": [
    "with torch.no_grad():\n",
    "    pred = model(x)\n",
    "    predicted, actual = classes[pred[0].argmax(0)], classes[y]\n",
    "    print(f'Predicted: {predicted}, Actual: {actual}')"
   ]
  },
  {
   "cell_type": "markdown",
   "id": "e20b2171",
   "metadata": {},
   "source": [
    "#### END"
   ]
  }
 ],
 "metadata": {
  "kernelspec": {
   "display_name": "Python 3 (ipykernel)",
   "language": "python",
   "name": "python3"
  },
  "language_info": {
   "codemirror_mode": {
    "name": "ipython",
    "version": 3
   },
   "file_extension": ".py",
   "mimetype": "text/x-python",
   "name": "python",
   "nbconvert_exporter": "python",
   "pygments_lexer": "ipython3",
   "version": "3.10.6"
  }
 },
 "nbformat": 4,
 "nbformat_minor": 5
}
